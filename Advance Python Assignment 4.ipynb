{
 "cells": [
  {
   "cell_type": "markdown",
   "id": "97c1c00e",
   "metadata": {},
   "source": [
    "# Advance Python Assignment 4"
   ]
  },
  {
   "cell_type": "raw",
   "id": "16d24c41",
   "metadata": {},
   "source": [
    "1. Which two operator overloading methods can you use in your classes to support iteration?"
   ]
  },
  {
   "cell_type": "code",
   "execution_count": null,
   "id": "70b84129",
   "metadata": {},
   "outputs": [],
   "source": [
    "Solution: __iter__ and __next__ are the operator overloading methods in python that support iteration \n",
    "           and are collectively called iterator protocol.\n",
    "          __iter__ returns the iterator object and is called at the start of loop in our respective class.\n",
    "          __next__ is called at each loop increment, it returns the incremented value.\n",
    "          Also Stopiteration is raised when there is no value to return."
   ]
  },
  {
   "cell_type": "code",
   "execution_count": 1,
   "id": "be072fd0",
   "metadata": {},
   "outputs": [
    {
     "name": "stdout",
     "output_type": "stream",
     "text": [
      "5 6 7 8 9 10 11 12 13 14 15 "
     ]
    }
   ],
   "source": [
    "class Counter:\n",
    "    def __init__(self,low,high):\n",
    "        self.current = low\n",
    "        self.high = high\n",
    "    def __iter__(self):\n",
    "        return self\n",
    "    def __next__(self):\n",
    "        if self.current > self.high:\n",
    "            raise StopIteration\n",
    "        else:\n",
    "            self.current += 1\n",
    "            return self.current - 1\n",
    "for ele in Counter(5,15):\n",
    "    print(ele, end=\" \")"
   ]
  },
  {
   "cell_type": "code",
   "execution_count": null,
   "id": "73bff91f",
   "metadata": {},
   "outputs": [],
   "source": [
    "2. In what contexts do the two operator overloading methods manage printing?"
   ]
  },
  {
   "cell_type": "code",
   "execution_count": null,
   "id": "67546163",
   "metadata": {},
   "outputs": [],
   "source": [
    "Solution: __str__ and __repr__ are two operator overloading methods that manage printing.\n",
    "    In Short, the difference between both these operators is the goal of __repr__ is to be unambiguous \n",
    "    and __str__ is to be readable.\n",
    "    Whenever we are printing any object reference internally __str__ method will be called by default.\n",
    "    The main purpose of __str__ is for readability. it prints the informal string representation of an object, \n",
    "    one that is useful for printing the object. it may not be possible to convert result string to original object.\n",
    "    __repr__ is used to print official string representation of an object, so it includes all information and development."
   ]
  },
  {
   "cell_type": "code",
   "execution_count": null,
   "id": "d52c2b33",
   "metadata": {},
   "outputs": [],
   "source": [
    "3. In a class, how do you intercept slice operations?"
   ]
  },
  {
   "cell_type": "code",
   "execution_count": null,
   "id": "645de3f0",
   "metadata": {},
   "outputs": [],
   "source": [
    "Solution: In a class use of slice() in __getitem__ method is used for intercept slice operation. \n",
    "          This slice method is provided with start integer number,stop integer number and step integer number."
   ]
  },
  {
   "cell_type": "code",
   "execution_count": null,
   "id": "ff436566",
   "metadata": {},
   "outputs": [],
   "source": [
    "__getitem__(slice(start,stop,step))"
   ]
  },
  {
   "cell_type": "code",
   "execution_count": null,
   "id": "9c5d04b3",
   "metadata": {},
   "outputs": [],
   "source": [
    "4. In a class, how do you capture in-place addition?"
   ]
  },
  {
   "cell_type": "code",
   "execution_count": null,
   "id": "7b87fc5f",
   "metadata": {},
   "outputs": [],
   "source": [
    "Solution: a+b is normal addition. Whereas a+=b is inplace addition operation.\n",
    "    In this in-place addition a itself will store the value of addition.\n",
    "    In a class __iadd__ method is used for this in-place operation"
   ]
  },
  {
   "cell_type": "code",
   "execution_count": 3,
   "id": "85c5a4d3",
   "metadata": {},
   "outputs": [
    {
     "name": "stdout",
     "output_type": "stream",
     "text": [
      "300\n"
     ]
    }
   ],
   "source": [
    "class Book:\n",
    "    def __init__(self,pages):\n",
    "        self.pages = pages\n",
    "    def __iadd__(self,other):\n",
    "        self.pages += other.pages\n",
    "        return self.pages\n",
    "        \n",
    "b1 = Book(100)\n",
    "b2 = Book(200)\n",
    "b1+=b2\n",
    "print(b1)"
   ]
  },
  {
   "cell_type": "code",
   "execution_count": null,
   "id": "e6863a47",
   "metadata": {},
   "outputs": [],
   "source": [
    "5. When is it appropriate to use operator overloading?"
   ]
  },
  {
   "cell_type": "code",
   "execution_count": null,
   "id": "b40e99b5",
   "metadata": {},
   "outputs": [],
   "source": [
    "Solution: Operator overloading is used when we want to use an operator other than its normal operation to\n",
    "          have different meaning according to the context required in user defined function."
   ]
  },
  {
   "cell_type": "code",
   "execution_count": 2,
   "id": "f97a82bc",
   "metadata": {},
   "outputs": [
    {
     "name": "stdout",
     "output_type": "stream",
     "text": [
      "Total Number of Pages -> 300\n"
     ]
    }
   ],
   "source": [
    "class Book:\n",
    "    def __init__(self,pages):\n",
    "        self.pages = pages\n",
    "    def __add__(self,other):\n",
    "        return self.pages+other.pages\n",
    "b1 = Book(100)\n",
    "b2 = Book(200)\n",
    "print(f'Total Number of Pages -> {b1+b2}')"
   ]
  }
 ],
 "metadata": {
  "kernelspec": {
   "display_name": "Python 3 (ipykernel)",
   "language": "python",
   "name": "python3"
  },
  "language_info": {
   "codemirror_mode": {
    "name": "ipython",
    "version": 3
   },
   "file_extension": ".py",
   "mimetype": "text/x-python",
   "name": "python",
   "nbconvert_exporter": "python",
   "pygments_lexer": "ipython3",
   "version": "3.9.12"
  }
 },
 "nbformat": 4,
 "nbformat_minor": 5
}
