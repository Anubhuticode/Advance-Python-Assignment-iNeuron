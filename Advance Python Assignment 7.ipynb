{
 "cells": [
  {
   "cell_type": "markdown",
   "id": "ad6cac7d",
   "metadata": {},
   "source": [
    "# Advance Python Assignment 7"
   ]
  },
  {
   "cell_type": "code",
   "execution_count": null,
   "id": "f93df1cd",
   "metadata": {},
   "outputs": [],
   "source": [
    "Q1. What is the purpose of the try statement?"
   ]
  },
  {
   "cell_type": "code",
   "execution_count": null,
   "id": "b941266c",
   "metadata": {},
   "outputs": [],
   "source": [
    "Solution: try statement is used for exception handling in python. \n",
    "    It consists of a block of risky statements which might cause an exception during runtime. \n",
    "    If code within try block raises exception, then the exception will be reverted to the corresponding except block\n",
    "    if multiple except blocks are present, else it willbe reverted to the default except block. \n",
    "    In short try and except in union avoid programs from crashing during runtime due to exceptions."
   ]
  },
  {
   "cell_type": "code",
   "execution_count": 1,
   "id": "40150058",
   "metadata": {},
   "outputs": [
    {
     "name": "stdout",
     "output_type": "stream",
     "text": [
      "Division by Zero is Not Possible\n"
     ]
    }
   ],
   "source": [
    "try:\n",
    "    print(10/0)\n",
    "except ZeroDivisionError:\n",
    "    print('Division by Zero is Not Possible')"
   ]
  },
  {
   "cell_type": "code",
   "execution_count": null,
   "id": "a4240ff9",
   "metadata": {},
   "outputs": [],
   "source": [
    "Q2. What are the two most popular try statement variations?"
   ]
  },
  {
   "cell_type": "code",
   "execution_count": null,
   "id": "564ac183",
   "metadata": {},
   "outputs": [],
   "source": [
    "Solution: The Popular try statement variations are:\n",
    "\n",
    "try,except\n",
    "try,except,finally\n",
    "try,except,finally,else\n",
    "The try block is used to check code for exceptions during runtime. ie code inside try block will execute completely when \n",
    "there is no error in the program. Whereas the code inside except block will execute whenever the program encounters some \n",
    "error in the preceeding try block.\n",
    "Whereas the code enters the else block if and only if the try clause does not raise and exception. \n",
    "The code in the finally block will execute irrespective of exception."
   ]
  },
  {
   "cell_type": "code",
   "execution_count": null,
   "id": "8d1390ab",
   "metadata": {},
   "outputs": [],
   "source": [
    "Q3. What is the purpose of the raise statement?"
   ]
  },
  {
   "cell_type": "code",
   "execution_count": null,
   "id": "e76a4cab",
   "metadata": {},
   "outputs": [],
   "source": [
    "Solution:  raise statement is used to trigger an exception explicitly, if a certain condition is not as per requirement of \n",
    "    programmer.\n",
    "    raise statement helps in triggering exception as per programming logic."
   ]
  },
  {
   "cell_type": "code",
   "execution_count": null,
   "id": "688a2c73",
   "metadata": {},
   "outputs": [],
   "source": [
    "Q4. What does the assert statement do, and what other statement is it like?"
   ]
  },
  {
   "cell_type": "code",
   "execution_count": null,
   "id": "715695f8",
   "metadata": {},
   "outputs": [],
   "source": [
    "Solution: There are few assertions that programmer always want to be true to avoid code failure. \n",
    "    This type of requirement is fulfilled by assert statement. This statement takes a boolean condition output of which is\n",
    "    True, Further Program Executes.\n",
    "    if output of assert statement is False, it raises an Assertion Error."
   ]
  },
  {
   "cell_type": "code",
   "execution_count": 2,
   "id": "0c851b7f",
   "metadata": {},
   "outputs": [
    {
     "ename": "AssertionError",
     "evalue": "this is not a valid statement",
     "output_type": "error",
     "traceback": [
      "\u001b[1;31m---------------------------------------------------------------------------\u001b[0m",
      "\u001b[1;31mAssertionError\u001b[0m                            Traceback (most recent call last)",
      "Input \u001b[1;32mIn [2]\u001b[0m, in \u001b[0;36m<cell line: 1>\u001b[1;34m()\u001b[0m\n\u001b[1;32m----> 1\u001b[0m \u001b[38;5;28;01massert\u001b[39;00m(\u001b[38;5;241m2\u001b[39m \u001b[38;5;241m==\u001b[39m \u001b[38;5;241m4\u001b[39m), \u001b[38;5;124mf\u001b[39m\u001b[38;5;124m'\u001b[39m\u001b[38;5;124mthis is not a valid statement\u001b[39m\u001b[38;5;124m'\u001b[39m\n",
      "\u001b[1;31mAssertionError\u001b[0m: this is not a valid statement"
     ]
    }
   ],
   "source": [
    "assert(2 == 4), f'this is not a valid statement'"
   ]
  },
  {
   "cell_type": "code",
   "execution_count": null,
   "id": "68b225e8",
   "metadata": {},
   "outputs": [],
   "source": [
    "Q5. What is the purpose of the with/as argument, and what other statement is it like?"
   ]
  },
  {
   "cell_type": "code",
   "execution_count": null,
   "id": "9ec6c064",
   "metadata": {},
   "outputs": [],
   "source": [
    "Solution: with/as statement simplifies use of file handling in python. When we use a with statement for file reading,\n",
    "    there is no need for programmer to explicitly takecare of activities like resource deallocation and file closing by \n",
    "    using file.close() method. with statement itself ensures proper acquisition and release of resources. this avoids \n",
    "    triggering of exceptions if file closing is unknowingly forgotten in the code execution.\n",
    "\n",
    "with open('sample_file.txt','w') as file: file.write('Hello World')"
   ]
  }
 ],
 "metadata": {
  "kernelspec": {
   "display_name": "Python 3 (ipykernel)",
   "language": "python",
   "name": "python3"
  },
  "language_info": {
   "codemirror_mode": {
    "name": "ipython",
    "version": 3
   },
   "file_extension": ".py",
   "mimetype": "text/x-python",
   "name": "python",
   "nbconvert_exporter": "python",
   "pygments_lexer": "ipython3",
   "version": "3.9.12"
  }
 },
 "nbformat": 4,
 "nbformat_minor": 5
}
