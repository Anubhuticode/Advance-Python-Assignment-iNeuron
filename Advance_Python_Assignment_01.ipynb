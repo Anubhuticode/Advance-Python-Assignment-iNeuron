{
 "cells": [
  {
   "cell_type": "markdown",
   "id": "20d52b9c",
   "metadata": {},
   "source": [
    "# Advance_Python_Assignment_01"
   ]
  },
  {
   "cell_type": "markdown",
   "id": "4c00b931",
   "metadata": {},
   "source": [
    "Q1. What is the purpose of Python's OOP?\n",
    "Answer:  Object-oriented programming is a programming paradigm that provides a means of structuring programs so that properties and behaviors are bundled into individual objects. It uses the concept of object and class. It aims to implement real-world entities like inheritance, polymorphisms, encapsulation, etc. in the programming.It helps to divide our over all program into different small segments and thus making it solving easy with the use of objects.It also Helps in easy maintenance and modification of existing program. Multiple instances of an object can be made."
   ]
  },
  {
   "cell_type": "markdown",
   "id": "cc159bb4",
   "metadata": {},
   "source": [
    "Q2. Where does an inheritance search look for an attribute?\n",
    "Answer: Inheritance searches for an attribute in an upward tree of attributes. It first searches for the attribute in its instance and then looks in the class it is generated from, to all super classes listed in its class header."
   ]
  },
  {
   "cell_type": "markdown",
   "id": "4b7a252f",
   "metadata": {},
   "source": [
    "Q3. How do you distinguish between a class object and an instance object?\n",
    "Answer: The differences between a class object and an instance object are:\n",
    "\n",
    "1.Class is a template for creating objects whereas object is an instance of class\n",
    "2.Seperate memory is allocated for each object where as there is no memory allocation for class.\n",
    "3.A Class is created once. Many objects are created using a class.\n",
    "4.As Classes have no allocated memory. they can't be manipulated. but objects can be manipulated."
   ]
  },
  {
   "cell_type": "markdown",
   "id": "456e6ae5",
   "metadata": {},
   "source": [
    "Q4. What makes the first argument in a class’s method function special?\n",
    "Answer:Python Classes usually have three types of methods which are:\n",
    "\n",
    "Instance Methods (object level methods)\n",
    "Class Methods (class level methods)\n",
    "Static Methods (general utility methods)\n",
    "self is the first argument for instance methods. which refers to the object itself\n",
    "cls is the first argument for class methods which refers to the class itself"
   ]
  },
  {
   "cell_type": "markdown",
   "id": "17dec45e",
   "metadata": {},
   "source": [
    "Q5. What is the purpose of the __init__ method?\n",
    "Answer: __init__ is a reseved method in python classes. It serves the role of a constructor in object oriented terminology. This method is called when an object is created from a class and it allows the class to initialize the attributes of the class."
   ]
  },
  {
   "cell_type": "markdown",
   "id": "a1c58028",
   "metadata": {},
   "source": [
    "Q6. What is the process for creating a class instance?\n",
    "Answer: To create a class instance, we need to call the class by its name and pass the arguments to the class, which its init method accepts.\n",
    "\n",
    "Example: my_name = my_class(\"Neha\",\"Anubhuti\") Here my_name is an instance of class my_class with attributes \"Neha\" and \"Anubhuti\"."
   ]
  },
  {
   "cell_type": "markdown",
   "id": "9e7bbe3b",
   "metadata": {},
   "source": [
    "Q7. What is the process for creating a class?\n",
    "Answer: class keyword is used to created a class in python. The syntax is: class <classname>\n",
    "\n",
    "Example: class House: ➞ this creates a class called House"
   ]
  },
  {
   "cell_type": "markdown",
   "id": "115aad9a",
   "metadata": {},
   "source": [
    "Q8. How would you define the superclasses of a class?\n",
    "Answer:Superclass/Parent class is given as a arugment to the child class.\n",
    "\n",
    "Example: class Employee(Person): Here child class Employee inherits attributes and methods from Superclass/Parent Person."
   ]
  },
  {
   "cell_type": "markdown",
   "id": "e64f0fda",
   "metadata": {},
   "source": []
  }
 ],
 "metadata": {
  "kernelspec": {
   "display_name": "Python 3 (ipykernel)",
   "language": "python",
   "name": "python3"
  },
  "language_info": {
   "codemirror_mode": {
    "name": "ipython",
    "version": 3
   },
   "file_extension": ".py",
   "mimetype": "text/x-python",
   "name": "python",
   "nbconvert_exporter": "python",
   "pygments_lexer": "ipython3",
   "version": "3.9.12"
  }
 },
 "nbformat": 4,
 "nbformat_minor": 5
}
