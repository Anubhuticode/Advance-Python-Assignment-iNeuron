{
 "cells": [
  {
   "cell_type": "markdown",
   "id": "4c9ea4e4",
   "metadata": {},
   "source": [
    "# Advance Python Assignment 19"
   ]
  },
  {
   "cell_type": "code",
   "execution_count": null,
   "id": "2090b145",
   "metadata": {},
   "outputs": [],
   "source": [
    "Q1. Define the relationship between a class and its instances. Is it a one-to-one or a one-to-many partnership, for example?"
   ]
  },
  {
   "cell_type": "code",
   "execution_count": null,
   "id": "2d0a595f",
   "metadata": {},
   "outputs": [],
   "source": [
    "Ans: Relationship between a class and its instances is a one to many partnership."
   ]
  },
  {
   "cell_type": "code",
   "execution_count": null,
   "id": "03c02806",
   "metadata": {},
   "outputs": [],
   "source": [
    "Q2. What kind of data is held only in an instance?"
   ]
  },
  {
   "cell_type": "code",
   "execution_count": null,
   "id": "722be82f",
   "metadata": {},
   "outputs": [],
   "source": [
    "Ans: Instance objects contains the Instance variables which are specific to that specific Instance object."
   ]
  },
  {
   "cell_type": "code",
   "execution_count": null,
   "id": "7af94968",
   "metadata": {},
   "outputs": [],
   "source": [
    "Q3. What kind of knowledge is stored in a class?"
   ]
  },
  {
   "cell_type": "code",
   "execution_count": null,
   "id": "2dabec35",
   "metadata": {},
   "outputs": [],
   "source": [
    "Ans: Class creates a user-defined data structure, which holds its own data members and member functions,\n",
    "    which can be accessed and used by creating an instance of that class.\n",
    "    A class is like a blueprint for an object."
   ]
  },
  {
   "cell_type": "code",
   "execution_count": null,
   "id": "db383bb2",
   "metadata": {},
   "outputs": [],
   "source": [
    "Q4. What exactly is a method, and how is it different from a regular function?"
   ]
  },
  {
   "cell_type": "code",
   "execution_count": null,
   "id": "40e0435d",
   "metadata": {},
   "outputs": [],
   "source": [
    "Ans: The methods with a class can be used to access the insatnce variables of its instance. \n",
    "    So,the object's state can be modified by its method. Function can't access the attributes of an instance of a \n",
    "    class or can't modify the state of the object."
   ]
  },
  {
   "cell_type": "code",
   "execution_count": null,
   "id": "ef0f1193",
   "metadata": {},
   "outputs": [],
   "source": [
    "Q5. Is inheritance supported in Python, and if so, what is the syntax?"
   ]
  },
  {
   "cell_type": "code",
   "execution_count": null,
   "id": "f3953382",
   "metadata": {},
   "outputs": [],
   "source": [
    "Ans: Yes,Python supports inheritance. The Types of Inheritence Supported by Python are:\n",
    "\n",
    "Simple Inheritence\n",
    "Multiple Inheritence\n",
    "Multilevel lInheritence\n",
    "Hybrid Inheritence\n",
    "Hierracial Inheritence"
   ]
  },
  {
   "cell_type": "code",
   "execution_count": 2,
   "id": "7166e0fb",
   "metadata": {},
   "outputs": [],
   "source": [
    "class Person:\n",
    "    def __init__(self, fname, lname):\n",
    "        self.first_name = fname\n",
    "        self.last_name = lname\n",
    "class Student(Person):\n",
    "    pass"
   ]
  },
  {
   "cell_type": "code",
   "execution_count": null,
   "id": "02a19796",
   "metadata": {},
   "outputs": [],
   "source": [
    "Q6. How much encapsulation (making instance or class variables private) does Python support?"
   ]
  },
  {
   "cell_type": "code",
   "execution_count": null,
   "id": "9056a0f3",
   "metadata": {},
   "outputs": [],
   "source": [
    "Ans: Encapsulation describes the idea of wrapping data and the methods that work on data within one unit. \n",
    "    This puts restrictions on accessing variables and methods directly and can prevent the accidental\n",
    "    modification of data. To prevent accidental change, an objects variable can only be changed by an objects method."
   ]
  },
  {
   "cell_type": "code",
   "execution_count": null,
   "id": "b6685632",
   "metadata": {},
   "outputs": [],
   "source": [
    "Q7. How do you distinguish between a class variable and an instance variable?"
   ]
  },
  {
   "cell_type": "code",
   "execution_count": null,
   "id": "e794b55c",
   "metadata": {},
   "outputs": [],
   "source": [
    "Ans: The Class Attribute is available to all the instance objects of that class. \n",
    "    whereas Instance Attributes are accessible only to the object or Instance of that class.\n",
    "\n",
    "    A single copy of Class attributes is maintained by pvm at the class level. Whereas difference copies of instance \n",
    "    attributes are maintained by pvm at objects/instance level."
   ]
  },
  {
   "cell_type": "code",
   "execution_count": null,
   "id": "39584845",
   "metadata": {},
   "outputs": [],
   "source": [
    "Q8. When, if ever, can self be included in a class's method definitions?"
   ]
  },
  {
   "cell_type": "code",
   "execution_count": null,
   "id": "e912e877",
   "metadata": {},
   "outputs": [],
   "source": [
    "Ans: Yes, self can included in class method definations to access the instance variables inside class methods."
   ]
  },
  {
   "cell_type": "code",
   "execution_count": null,
   "id": "7cef72e4",
   "metadata": {},
   "outputs": [],
   "source": [
    "Q9. What is the difference between the __add__ and the __radd__ methods ?"
   ]
  },
  {
   "cell_type": "code",
   "execution_count": null,
   "id": "b39fe7ea",
   "metadata": {},
   "outputs": [],
   "source": [
    "Ans: Entering __radd__ Python will first try __add__(), and if that returns Not Implemented Python will check if the\n",
    "    right-hand operand implements __radd__, and if it does, it will call __radd__() rather than raising a TypeError"
   ]
  },
  {
   "cell_type": "code",
   "execution_count": null,
   "id": "5a8a4980",
   "metadata": {},
   "outputs": [],
   "source": [
    "Q10. When is it necessary to use a reflection method? When do you not need it, even though you support the\n",
    "operation in question?"
   ]
  },
  {
   "cell_type": "code",
   "execution_count": null,
   "id": "aab7d21b",
   "metadata": {},
   "outputs": [],
   "source": [
    "Ans: Reflection method we often encounter the requirement that a method in the executing object, or a variable in the \n",
    "    calling object, or a field of the object should be assigned, while the method name or field name can not be determined \n",
    "    when encoding the code, and need to be input in the form of passing strings through parameters."
   ]
  },
  {
   "cell_type": "code",
   "execution_count": null,
   "id": "1e20234f",
   "metadata": {},
   "outputs": [],
   "source": [
    "Q11. What is the __iadd__ method called?"
   ]
  },
  {
   "cell_type": "code",
   "execution_count": null,
   "id": "b1399865",
   "metadata": {},
   "outputs": [],
   "source": [
    "Ans: __iadd__ method is called when we use implementation like a+=b which is a.__iadd__(b)"
   ]
  },
  {
   "cell_type": "code",
   "execution_count": null,
   "id": "e18177e7",
   "metadata": {},
   "outputs": [],
   "source": [
    "Q12. Is the _ _init_ _ method inherited by subclasses? What do you do if you need to customize its behavior within a \n",
    "subclass ?"
   ]
  },
  {
   "cell_type": "code",
   "execution_count": null,
   "id": "2207559c",
   "metadata": {},
   "outputs": [],
   "source": [
    "Ans: Yes, __init__ method will be inherited by subclasses. if we want to customize its behaviour within a subclass we\n",
    "    can use super() method."
   ]
  }
 ],
 "metadata": {
  "kernelspec": {
   "display_name": "Python 3 (ipykernel)",
   "language": "python",
   "name": "python3"
  },
  "language_info": {
   "codemirror_mode": {
    "name": "ipython",
    "version": 3
   },
   "file_extension": ".py",
   "mimetype": "text/x-python",
   "name": "python",
   "nbconvert_exporter": "python",
   "pygments_lexer": "ipython3",
   "version": "3.9.12"
  }
 },
 "nbformat": 4,
 "nbformat_minor": 5
}
