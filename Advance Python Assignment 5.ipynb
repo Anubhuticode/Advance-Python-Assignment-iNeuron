{
 "cells": [
  {
   "cell_type": "markdown",
   "id": "fd50c9d2",
   "metadata": {},
   "source": [
    "# Advance Python Assignment 5"
   ]
  },
  {
   "cell_type": "code",
   "execution_count": null,
   "id": "e48da36f",
   "metadata": {},
   "outputs": [],
   "source": [
    "1. What is the meaning of multiple inheritance?"
   ]
  },
  {
   "cell_type": "code",
   "execution_count": null,
   "id": "3a77f2ef",
   "metadata": {},
   "outputs": [],
   "source": [
    "Solution: Inheritence is nothing but reusing the code of Parent class by the child class. Similary when a child class \n",
    "inherits its properties from multiple Parent classes this scenario is called Multiple Inheritence."
   ]
  },
  {
   "cell_type": "code",
   "execution_count": 1,
   "id": "f5e391f5",
   "metadata": {},
   "outputs": [],
   "source": [
    "class Parent_one:\n",
    "    pass\n",
    "class Parent_two:\n",
    "    pass\n",
    "class child(Parent_one,Parent_two):\n",
    "    pass"
   ]
  },
  {
   "cell_type": "code",
   "execution_count": null,
   "id": "93f458be",
   "metadata": {},
   "outputs": [],
   "source": [
    "2. What is the concept of delegation?"
   ]
  },
  {
   "cell_type": "code",
   "execution_count": null,
   "id": "067e5c92",
   "metadata": {},
   "outputs": [],
   "source": [
    "Solution: Delegation provides a proxy object for any class thay you want on top of the main class.\n",
    "         its like a wrapper to your class so that you can access limited resources of the main class.\n",
    "         it Wraps the object of main class into a smaller object with limited access\n",
    "         Simply Delegation means that you can include a instance of another class as an instance variable, \n",
    "         and forward messages to the instance."
   ]
  },
  {
   "cell_type": "code",
   "execution_count": 3,
   "id": "e06ba536",
   "metadata": {},
   "outputs": [
    {
     "name": "stdout",
     "output_type": "stream",
     "text": [
      "Hey I am studying\n",
      "Hey I am studying\n",
      "Hey I am studying\n",
      "I am playing\n"
     ]
    }
   ],
   "source": [
    "class Myclass:\n",
    "    def sayHi(self):\n",
    "        print('Hey I am studying')\n",
    "    def whoAmI(self):\n",
    "        print('I am playing')\n",
    "class NewClass:\n",
    "    def __init__(self,obj):\n",
    "        self.main = obj\n",
    "    def welcome(self):\n",
    "        self.main.sayHi()\n",
    "\n",
    "m = Myclass()        \n",
    "n = NewClass(m)\n",
    "m.sayHi()\n",
    "n.main.sayHi()\n",
    "n.welcome()\n",
    "n.main.whoAmI()"
   ]
  },
  {
   "cell_type": "code",
   "execution_count": null,
   "id": "48bb0773",
   "metadata": {},
   "outputs": [],
   "source": [
    "3. What is the concept of composition?"
   ]
  },
  {
   "cell_type": "code",
   "execution_count": null,
   "id": "aefa18f4",
   "metadata": {},
   "outputs": [],
   "source": [
    "Solution: In the concept of Composition, a class refers to one or more other classes by using instances of those classes \n",
    "    as a instance variable. irrespective of inheritence in this approach all the parent class members are not inherited \n",
    "    into child class, but only required methods from a class are used by using class instances."
   ]
  },
  {
   "cell_type": "code",
   "execution_count": 4,
   "id": "46c22f00",
   "metadata": {},
   "outputs": [
    {
     "name": "stdout",
     "output_type": "stream",
     "text": [
      "Total Salary : 144000\n"
     ]
    }
   ],
   "source": [
    "class Salary:\n",
    "    def __init__(self,pay):\n",
    "        self.pay = pay\n",
    "    def get_total(self):\n",
    "        return self.pay*12\n",
    "    \n",
    "class Employee:\n",
    "    def __init__(self,pay,bonus):\n",
    "        self.pay = pay\n",
    "        self.bonus = bonus\n",
    "        self.obj_salary = Salary(self.pay)\n",
    "    def annual_salary(self):\n",
    "        return f'Total Salary : {str(self.obj_salary.get_total())}'\n",
    "\n",
    "obj_emp = Employee(12000,5000)\n",
    "print(obj_emp.annual_salary())"
   ]
  },
  {
   "cell_type": "code",
   "execution_count": null,
   "id": "8c1fcd41",
   "metadata": {},
   "outputs": [],
   "source": [
    "4. What are bound methods and how do we use them?"
   ]
  },
  {
   "cell_type": "code",
   "execution_count": null,
   "id": "c8aabdb4",
   "metadata": {},
   "outputs": [],
   "source": [
    "Solution: If a function is an attribute of class and it is accessed via the instances, they are called bound methods.\n",
    "    A bound method is one that has self as its first argument. \n",
    "    Since these are dependent on the instance of classes, these are also known as instance methods."
   ]
  },
  {
   "cell_type": "code",
   "execution_count": 5,
   "id": "d07002aa",
   "metadata": {},
   "outputs": [
    {
     "name": "stdout",
     "output_type": "stream",
     "text": [
      "Called method_one\n",
      "Called method_two\n",
      "Called method_two\n",
      "Called method_three\n"
     ]
    }
   ],
   "source": [
    "class Test:\n",
    "    def method_one(self): # bound method\n",
    "        print(\"Called method_one\")\n",
    "    @classmethod\n",
    "    def method_two(cls): # unbound method\n",
    "        print(\"Called method_two\")\n",
    "    @staticmethod\n",
    "    def method_three(): # static method\n",
    "        print(\"Called method_three\")\n",
    "\n",
    "test = Test()\n",
    "test.method_one() # accessing through instance object\n",
    "test.method_two() # accessing through instance object\n",
    "Test.method_two() # accessing directly through class\n",
    "Test.method_three() # accessing directly through class"
   ]
  },
  {
   "cell_type": "code",
   "execution_count": null,
   "id": "22825479",
   "metadata": {},
   "outputs": [],
   "source": [
    "5. What is the purpose of pseudoprivate attributes?"
   ]
  },
  {
   "cell_type": "code",
   "execution_count": null,
   "id": "9b6cdd43",
   "metadata": {},
   "outputs": [],
   "source": [
    "Solution: Pseudoprivate attributes are also useful in larger frameworks or tools, both to avoid introducing new method \n",
    "    names that might accidentally hide definitions elsewhere in the class tree and to reduce the chance of internal methods \n",
    "    being replaced by names defined lower in the tree. If a method is intended for use only within a class that may be\n",
    "    mixed into other classes, the double underscore prefix ensures that the method won't interfere with other names in the \n",
    "    tree, especially in multiple-inheritance scenarios\n",
    "\n",
    "Pseudoprivate names also prevent subclasses from accidentally redefining the internal method's names."
   ]
  },
  {
   "cell_type": "code",
   "execution_count": 6,
   "id": "8edca4c8",
   "metadata": {},
   "outputs": [],
   "source": [
    "class Super:\n",
    "    def method(self): # A real application method\n",
    "        pass\n",
    "class Tool:\n",
    "    def _method(self): # becomes _Tool_method\n",
    "        pass\n",
    "    def other(self): # uses internal method\n",
    "        self._method()\n",
    "class Subl(Tool,Super):\n",
    "    def actions(self):\n",
    "        self.method()\n",
    "class Sub2(Tool):\n",
    "    def __init__(self):\n",
    "        self.method = 99"
   ]
  }
 ],
 "metadata": {
  "kernelspec": {
   "display_name": "Python 3 (ipykernel)",
   "language": "python",
   "name": "python3"
  },
  "language_info": {
   "codemirror_mode": {
    "name": "ipython",
    "version": 3
   },
   "file_extension": ".py",
   "mimetype": "text/x-python",
   "name": "python",
   "nbconvert_exporter": "python",
   "pygments_lexer": "ipython3",
   "version": "3.9.12"
  }
 },
 "nbformat": 4,
 "nbformat_minor": 5
}
