{
 "cells": [
  {
   "cell_type": "markdown",
   "id": "21c721e9",
   "metadata": {},
   "source": [
    "# Advance Python Assignment 16"
   ]
  },
  {
   "cell_type": "code",
   "execution_count": null,
   "id": "3911bcbd",
   "metadata": {},
   "outputs": [],
   "source": [
    "Q1. What is the benefit of regular expressions?"
   ]
  },
  {
   "cell_type": "code",
   "execution_count": null,
   "id": "48349f90",
   "metadata": {},
   "outputs": [],
   "source": [
    "Ans: Regular Expressions, also known as regex or regexp, are used to match strings of text such as particular characters,\n",
    "    words, or patterns of characters. It means that we can match and extract any string pattern from the text with the help\n",
    "    of regular expressions. it helps the programmers to Write less and cleaner code. it also avoids multiple use of if/else\n",
    "    statements."
   ]
  },
  {
   "cell_type": "code",
   "execution_count": null,
   "id": "9cbf932b",
   "metadata": {},
   "outputs": [],
   "source": [
    "Q2. Describe the difference between the effects of \"(ab)c+\" and \"a(bc)+\" Which of these, if any, is the unqualified\n",
    "pattern \"abc+\"?"
   ]
  },
  {
   "cell_type": "code",
   "execution_count": null,
   "id": "48b1865b",
   "metadata": {},
   "outputs": [],
   "source": [
    "Ans: Both (ab)c+ and a(bc)+ are valid patterns. the difference between both these patterns is in (ab)c+ ab is group \n",
    "    whereas in a(bc)+ bc is a group."
   ]
  },
  {
   "cell_type": "code",
   "execution_count": null,
   "id": "10c888e6",
   "metadata": {},
   "outputs": [],
   "source": [
    "Q3. How much do you need to use the following sentence while using regular expressions?"
   ]
  },
  {
   "cell_type": "code",
   "execution_count": null,
   "id": "c6dd361f",
   "metadata": {},
   "outputs": [],
   "source": [
    "Ans: import re statement always has to be imported before using regular expressions."
   ]
  },
  {
   "cell_type": "code",
   "execution_count": null,
   "id": "a995c305",
   "metadata": {},
   "outputs": [],
   "source": [
    "Q4. Which characters have special significance in square brackets when expressing a range, and under what circumstances?"
   ]
  },
  {
   "cell_type": "code",
   "execution_count": null,
   "id": "c78a8735",
   "metadata": {},
   "outputs": [],
   "source": [
    "Ans: The Characters .,*,?,^,or,(), have a special signiface when used with square brackets. \n",
    "    They need not be be explicitly escaped by \\ as in case of pattern texts in a raw string."
   ]
  },
  {
   "cell_type": "code",
   "execution_count": null,
   "id": "972f1016",
   "metadata": {},
   "outputs": [],
   "source": [
    "Q5. How does compiling a regular-expression object benefit you?"
   ]
  },
  {
   "cell_type": "code",
   "execution_count": null,
   "id": "1f83b0d4",
   "metadata": {},
   "outputs": [],
   "source": [
    "Ans: We can Combine a regular expression pattern into pattern Objects.Which can be used for pattern matching. \n",
    "    It also helps to search a pattern again without rewritting it."
   ]
  },
  {
   "cell_type": "code",
   "execution_count": null,
   "id": "3b1e1d15",
   "metadata": {},
   "outputs": [],
   "source": [
    "Q6. What are some examples of how to use the match object returned by re.match and re.search?"
   ]
  },
  {
   "cell_type": "code",
   "execution_count": null,
   "id": "68cdefc1",
   "metadata": {},
   "outputs": [],
   "source": [
    "Ans: The re.search() and re.match() both are functions of re module in python. \n",
    "    These functions are very efficient and fast for searching in strings. The function searches for some \n",
    "    substring in a string and returns a match object if found, else it returns none.\n",
    "\n",
    "There is a difference between the use of both functions. Both return the first match of a substring found in the string, \n",
    "but re.match() searches only from the beginning of the string and return match object if found. But if a match of substring\n",
    "is found somewhere in the middle of the string, it returns none."
   ]
  },
  {
   "cell_type": "code",
   "execution_count": null,
   "id": "b8ba6243",
   "metadata": {},
   "outputs": [],
   "source": [
    "Q7. What is the difference between using a vertical bar (|) as an alteration and using square brackets as a character set?"
   ]
  },
  {
   "cell_type": "code",
   "execution_count": null,
   "id": "03da6ec7",
   "metadata": {},
   "outputs": [],
   "source": [
    "Ans: When | us used then patterns searches for or option. i.e <pattern_1>|<pattern_2> means it searches as \n",
    "    <pattern_1>or<<pattern_2> in the searched string. the first occurance of matched string will be returned as the Match \n",
    "    Object. Using Character set in square Brackets searches for all the character set in the square bracket and if match \n",
    "    is found, it returns it."
   ]
  },
  {
   "cell_type": "code",
   "execution_count": null,
   "id": "6baa73c7",
   "metadata": {},
   "outputs": [],
   "source": [
    "Q8. In regular-expression search patterns, why is it necessary to use the raw-string indicator (r)? In replacement strings?"
   ]
  },
  {
   "cell_type": "code",
   "execution_count": null,
   "id": "5d3756fb",
   "metadata": {},
   "outputs": [],
   "source": [
    "Ans: Raw Strings are used in the regular-expression search patterns, so that blackslashes donot have to be escaped."
   ]
  }
 ],
 "metadata": {
  "kernelspec": {
   "display_name": "Python 3 (ipykernel)",
   "language": "python",
   "name": "python3"
  },
  "language_info": {
   "codemirror_mode": {
    "name": "ipython",
    "version": 3
   },
   "file_extension": ".py",
   "mimetype": "text/x-python",
   "name": "python",
   "nbconvert_exporter": "python",
   "pygments_lexer": "ipython3",
   "version": "3.9.12"
  }
 },
 "nbformat": 4,
 "nbformat_minor": 5
}
