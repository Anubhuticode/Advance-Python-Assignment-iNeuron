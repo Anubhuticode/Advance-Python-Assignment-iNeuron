{
 "cells": [
  {
   "cell_type": "markdown",
   "id": "bb8cca72",
   "metadata": {},
   "source": [
    "# Advance Python Assignment 20"
   ]
  },
  {
   "cell_type": "code",
   "execution_count": null,
   "id": "5dd4ffc2",
   "metadata": {},
   "outputs": [],
   "source": [
    "1. Compare and contrast the float and Decimal classes' benefits and drawbacks ?"
   ]
  },
  {
   "cell_type": "code",
   "execution_count": null,
   "id": "a1d4889f",
   "metadata": {},
   "outputs": [],
   "source": [
    "Ans: Both the float and decimal types store numerical values in Python.\n",
    "Use floats when convenience and speed matter. A float gives you an approximation of the number you declare.\n",
    "Use decimals when precision matters. Decimals can suffer from their own precision issues, but generally,\n",
    "decimals are more precise than floats. The performance difference between float and decimal, with Python 3,\n",
    "is not outlandish, and in my experience, the precision benefits of a decimal outweigh the performance benefits of a float."
   ]
  },
  {
   "cell_type": "code",
   "execution_count": null,
   "id": "bffd3b27",
   "metadata": {},
   "outputs": [],
   "source": [
    "2. Decimal('1.200') and Decimal('1.2') are two objects to consider. In what sense are these the same object?\n",
    "Are these just two ways of representing the exact same value, or do they correspond to different internal states ?"
   ]
  },
  {
   "cell_type": "code",
   "execution_count": null,
   "id": "732cd4e1",
   "metadata": {},
   "outputs": [],
   "source": [
    "Ans: Both values are same but internal representation at storage Is different. Precsion differs, Decimal('1.200') gives\n",
    "    internally 1.200 and Decimal('1.2') gives 1.2."
   ]
  },
  {
   "cell_type": "code",
   "execution_count": null,
   "id": "676b7737",
   "metadata": {},
   "outputs": [],
   "source": [
    "3. What happens if the equality of Decimal('1.200') and Decimal('1.2') is checked ?"
   ]
  },
  {
   "cell_type": "code",
   "execution_count": null,
   "id": "8067de6a",
   "metadata": {},
   "outputs": [],
   "source": [
    "Ans: Both values are checked to be equal , they only differ in precision."
   ]
  },
  {
   "cell_type": "code",
   "execution_count": null,
   "id": "454793b8",
   "metadata": {},
   "outputs": [],
   "source": [
    "4. Why is it preferable to start a Decimal object with a string rather than a floating-point value ?"
   ]
  },
  {
   "cell_type": "code",
   "execution_count": null,
   "id": "7f27124c",
   "metadata": {},
   "outputs": [],
   "source": [
    "Ans: Floating-point value is converted to Decimal format. Decimal can store float value with absolute precision. \n",
    "    But when float value is given as Decimal object,it first has to be converted from floating point value which might\n",
    "    already have rounding error.\n",
    "\n",
    "Hence it is preferable to start a Decimal object with a string."
   ]
  },
  {
   "cell_type": "code",
   "execution_count": null,
   "id": "039620b5",
   "metadata": {},
   "outputs": [],
   "source": [
    "5. In an arithmetic phrase, how simple is it to combine Decimal objects with integers ?"
   ]
  },
  {
   "cell_type": "code",
   "execution_count": null,
   "id": "84fd2f0c",
   "metadata": {},
   "outputs": [],
   "source": [
    "Ans: We can do it with use of Decimal()."
   ]
  },
  {
   "cell_type": "code",
   "execution_count": null,
   "id": "1d8a1997",
   "metadata": {},
   "outputs": [],
   "source": [
    "6. Can Decimal objects and floating-point values be combined easily ?"
   ]
  },
  {
   "cell_type": "code",
   "execution_count": null,
   "id": "c69139f7",
   "metadata": {},
   "outputs": [],
   "source": [
    "Ans: Arithmetic operfations like Adding,subtracting or multiplying a Decimal object by a floating-point value is generates\n",
    "    an error.\n",
    "\n",
    "    To do these operations, the floating point has to be converted to a Decimal."
   ]
  },
  {
   "cell_type": "code",
   "execution_count": null,
   "id": "fbb8756d",
   "metadata": {},
   "outputs": [],
   "source": [
    "7. Using the Fraction class but not the Decimal class, give an example of a quantity that can be expressed with absolute \n",
    "precision ?"
   ]
  },
  {
   "cell_type": "code",
   "execution_count": null,
   "id": "032be1c5",
   "metadata": {},
   "outputs": [],
   "source": [
    "Ans: Value of 0.5 will be represented as ½."
   ]
  },
  {
   "cell_type": "code",
   "execution_count": null,
   "id": "fa5660e4",
   "metadata": {},
   "outputs": [],
   "source": [
    "8.Consider the following two fraction objects: Fraction(1, 2) and Fraction(1, 2). (5, 10). Is the internal state of these\n",
    "    two objects the same?\n",
    "    Why do you think that is ?"
   ]
  },
  {
   "cell_type": "code",
   "execution_count": null,
   "id": "f5d0df09",
   "metadata": {},
   "outputs": [],
   "source": [
    "Ans: Both will be reduced to 1/2"
   ]
  },
  {
   "cell_type": "code",
   "execution_count": null,
   "id": "1b7191f9",
   "metadata": {},
   "outputs": [],
   "source": [
    "9. How do the Fraction class and the integer type (int) relate to each other? Containment or inheritance ?"
   ]
  },
  {
   "cell_type": "code",
   "execution_count": null,
   "id": "550312b7",
   "metadata": {},
   "outputs": [],
   "source": [
    "Ans: Fraction class and integer type(int) are related in form of a container.It contains two ints, one the numerator and \n",
    "    the other the denominator"
   ]
  },
  {
   "cell_type": "code",
   "execution_count": null,
   "id": "baf328d4",
   "metadata": {},
   "outputs": [],
   "source": []
  }
 ],
 "metadata": {
  "kernelspec": {
   "display_name": "Python 3 (ipykernel)",
   "language": "python",
   "name": "python3"
  },
  "language_info": {
   "codemirror_mode": {
    "name": "ipython",
    "version": 3
   },
   "file_extension": ".py",
   "mimetype": "text/x-python",
   "name": "python",
   "nbconvert_exporter": "python",
   "pygments_lexer": "ipython3",
   "version": "3.9.12"
  }
 },
 "nbformat": 4,
 "nbformat_minor": 5
}
