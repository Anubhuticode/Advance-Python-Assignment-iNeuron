{
 "cells": [
  {
   "cell_type": "markdown",
   "id": "bceb326f",
   "metadata": {},
   "source": [
    "# Advance Python Assignment 21"
   ]
  },
  {
   "cell_type": "code",
   "execution_count": null,
   "id": "3899f817",
   "metadata": {},
   "outputs": [],
   "source": [
    "Q1. What is a probability distribution, exactly? If the values are meant to be random, how can you predict them at all ?\n"
   ]
  },
  {
   "cell_type": "code",
   "execution_count": null,
   "id": "fa1a5e32",
   "metadata": {},
   "outputs": [],
   "source": [
    "Ans: A probability distribution describes how a random variable is distributed.\n",
    "\n",
    "It tells us which values a random variable is most likely to take on and which values are less likely. \n",
    "Based on the previous data and the occurences of the random event, we can predict the outcome in terms of probabilities."
   ]
  },
  {
   "cell_type": "code",
   "execution_count": null,
   "id": "962d5310",
   "metadata": {},
   "outputs": [],
   "source": [
    "Q2. Is there a distinction between true random numbers and pseudo-random numbers, if there is one? Why are the latter \n",
    "considered “good enough”?"
   ]
  },
  {
   "cell_type": "code",
   "execution_count": null,
   "id": "18499d78",
   "metadata": {},
   "outputs": [],
   "source": [
    "Ans: : True Random Numbers are true physical values while pseudo-random numbers are generated internally by a program .\n",
    "        Latter is considered good enough as they have sort of uniform distribution."
   ]
  },
  {
   "cell_type": "code",
   "execution_count": null,
   "id": "494bd495",
   "metadata": {},
   "outputs": [],
   "source": [
    "Q3. What are the two main factors that influence the behaviour of a \"normal\" probability distribution ?"
   ]
  },
  {
   "cell_type": "code",
   "execution_count": null,
   "id": "e0f9f283",
   "metadata": {},
   "outputs": [],
   "source": [
    "Ans: Normal Probability Distribution are influenced by two factors mean and the variance."
   ]
  },
  {
   "cell_type": "code",
   "execution_count": null,
   "id": "8cc52a61",
   "metadata": {},
   "outputs": [],
   "source": [
    "Q4. Provide a real-life example of a normal distribution ?"
   ]
  },
  {
   "cell_type": "code",
   "execution_count": null,
   "id": "445267cf",
   "metadata": {},
   "outputs": [],
   "source": [
    "Ans: A Real-life example of a normal distribution are heights or blood pressure measurements"
   ]
  },
  {
   "cell_type": "code",
   "execution_count": null,
   "id": "76040509",
   "metadata": {},
   "outputs": [],
   "source": [
    "Q5. In the short term, how can you expect a probability distribution to behave? What do you think will happen as \n",
    "the number of trials grows ?"
   ]
  },
  {
   "cell_type": "code",
   "execution_count": null,
   "id": "06ed9f5e",
   "metadata": {},
   "outputs": [],
   "source": [
    "Ans: Variance will decrease with number of trials"
   ]
  },
  {
   "cell_type": "code",
   "execution_count": null,
   "id": "b0135fe6",
   "metadata": {},
   "outputs": [],
   "source": [
    "Q6. What kind of object can be shuffled by using random.shuffle ?"
   ]
  },
  {
   "cell_type": "code",
   "execution_count": null,
   "id": "13e34ee3",
   "metadata": {},
   "outputs": [],
   "source": [
    "Ans: lists (list), strings (str) and tuples (tuple) objects can be shuffled by using random.shuffle."
   ]
  },
  {
   "cell_type": "code",
   "execution_count": null,
   "id": "073edad3",
   "metadata": {},
   "outputs": [],
   "source": [
    "Q7. Describe the math package's general categories of functions ?"
   ]
  },
  {
   "cell_type": "code",
   "execution_count": null,
   "id": "b6c6d4b4",
   "metadata": {},
   "outputs": [],
   "source": [
    "Ans: The Math package's general categories of functions are:\n",
    "\n",
    "Trigonometric functions\n",
    "Quadratic functions\n",
    "Exponential functions\n",
    "Hyperbolic functions\n",
    "Periodic functions\n",
    "Arithmetic functions\n",
    "Logarithimic functions\n",
    "Conversions to Integer"
   ]
  },
  {
   "cell_type": "code",
   "execution_count": null,
   "id": "ba73f639",
   "metadata": {},
   "outputs": [],
   "source": [
    "Q8. What is the relationship between exponentiation and logarithms ?"
   ]
  },
  {
   "cell_type": "code",
   "execution_count": null,
   "id": "0824d0eb",
   "metadata": {},
   "outputs": [],
   "source": [
    "Ans: Exponentiation and logarithms are inverse of each other."
   ]
  },
  {
   "cell_type": "code",
   "execution_count": null,
   "id": "ae88f6c1",
   "metadata": {},
   "outputs": [],
   "source": [
    "Q9. What are the three logarithmic functions that Python supports ?"
   ]
  },
  {
   "cell_type": "code",
   "execution_count": null,
   "id": "c4c5f858",
   "metadata": {},
   "outputs": [],
   "source": [
    "Ans: The Three Logarithmic Functions that Python supports are:\n",
    "\n",
    "log2(x) - logarithmic value of x to base 2\n",
    "log10(x) - logarithmic value of x to base 10\n",
    "log1p(a) - This function is used to compute logarithm(1+a) ."
   ]
  },
  {
   "cell_type": "code",
   "execution_count": null,
   "id": "6d711405",
   "metadata": {},
   "outputs": [],
   "source": []
  }
 ],
 "metadata": {
  "kernelspec": {
   "display_name": "Python 3 (ipykernel)",
   "language": "python",
   "name": "python3"
  },
  "language_info": {
   "codemirror_mode": {
    "name": "ipython",
    "version": 3
   },
   "file_extension": ".py",
   "mimetype": "text/x-python",
   "name": "python",
   "nbconvert_exporter": "python",
   "pygments_lexer": "ipython3",
   "version": "3.9.12"
  }
 },
 "nbformat": 4,
 "nbformat_minor": 5
}
