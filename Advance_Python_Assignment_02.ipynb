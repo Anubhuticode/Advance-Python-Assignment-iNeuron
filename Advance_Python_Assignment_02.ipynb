{
 "cells": [
  {
   "cell_type": "markdown",
   "id": "c17a64a7",
   "metadata": {},
   "source": [
    "# Advance_Python_Assignment_02"
   ]
  },
  {
   "cell_type": "code",
   "execution_count": null,
   "id": "22c74a99",
   "metadata": {},
   "outputs": [],
   "source": [
    "Q1. What is the relationship between classes and modules?\n",
    "Answer: A Python class is like an outline/blueprint/mold for creating a new object. \n",
    "    An object is anything that you wish to manipulate or change while working through the code. \n",
    "    Every time a class object is instantiated, which is when we declare a variable, a new object is initiated from scratch.\n",
    "\n",
    "    A module is a file containing Python definitions and statements.So a module in python is simply a way to organize the code,\n",
    "        and it contains either python classes or just functions. \n",
    "        If you need those classes or functions in your project, you just import them. "
   ]
  },
  {
   "cell_type": "code",
   "execution_count": null,
   "id": "3fbb48a6",
   "metadata": {},
   "outputs": [],
   "source": [
    "Q2. How do you make instances and classes?\n",
    "Answer: For creating a class instance. we call a class by its name and pass the arguments which its __init__ method accepts.\n",
    "Example: developer = employee('Male',20000), Here developer is an instance of class employee with attriubutes 'Male' and 20000.\n",
    "Whereas for creating a class, we use the Class keyword. Class keyword is followed by classname and semicolon.\n",
    "\n",
    "Example: Here Employee is a class created with class keyword with arguments gender and salary.\n",
    "    class Employee:\n",
    "        def __init__(self,gender,salary):\n",
    "            self.gender=gender\n",
    "            self.salary=salary\n",
    "\n",
    "\n",
    "        "
   ]
  },
  {
   "cell_type": "code",
   "execution_count": null,
   "id": "d9963580",
   "metadata": {},
   "outputs": [],
   "source": [
    "Q3. Where and how should be class attributes created?\n",
    "Answer: Class attributes belong to the class itself they will be shared by all the instances. \n",
    "    Such attributes are defined in the class body parts usually at the top, outside alll methods.\n",
    "    Example: In the below code we are defining a class attribute called no_of_room which will be shared by all \n",
    "        the instances of the class House.\n",
    "        \n",
    "        class House:\n",
    "            no_of_room=4\n",
    "            \n",
    "            def __init__(self,paint,door):\n",
    "                self.paint=paint\n",
    "                self.door=door\n",
    "        \n",
    "    "
   ]
  },
  {
   "cell_type": "code",
   "execution_count": null,
   "id": "445e6c14",
   "metadata": {},
   "outputs": [],
   "source": [
    "Q4. Where and how are instance attributes created?\n",
    "Answer:Instances attributes are passed to the class when an object of the class is created. \n",
    "    Unlike class attributes, instance attributes are not shared by all objects of the classs.\n",
    "    instead each object maintains its own copy of instance attributes at object level.\n",
    "    whereas incase of class attributes all instances of class refer to a single copy. \n",
    "    Usually instance attributes are defined within the __init__ method of class\n",
    "    \n",
    "    In the below code we are creating a class Car with instance varaibles color, price, engine,\n",
    "    which will be provided when an instance of class Car is created.\n",
    "\n",
    "class Car: \n",
    "    def __init__(self,color,price,engine): \n",
    "        self.color = color\n",
    "        self.price = price\n",
    "        self.engine = engine\n",
    "\n",
    "nexon_ev = Car('Indigo Blue', 1400000, 'electric')\n",
    "safari = Car('Pearl White',2100000, 'petrol')\n",
    "    "
   ]
  },
  {
   "cell_type": "code",
   "execution_count": null,
   "id": "34e2541e",
   "metadata": {},
   "outputs": [],
   "source": [
    "Q5. What does the term \"self\" in a Python class mean?\n",
    "Answer: self represents the instance of the class (it represents the object itself).\n",
    "    By using the “self”\n",
    "    keyword we can access the attributes and methods of the class with in the class in python. \n",
    "    It binds the attributes with the given arguments.\n",
    "    \n",
    "    "
   ]
  },
  {
   "cell_type": "code",
   "execution_count": null,
   "id": "bbf26d76",
   "metadata": {},
   "outputs": [],
   "source": [
    "Q6. How does a Python class handle operator overloading?\n",
    "Answer: Python Classes handle operator overloading by using special methods called Magic methods. \n",
    "    these special methods usually begin and end with __ (double underscore).\n",
    "    Magic methods for basic arithmetic operators are:\n",
    "\n",
    "+ -> __add__()\n",
    "- -> __sub__()\n",
    "* -> __mul__()\n",
    "/ -> __div__()\n",
    "\n"
   ]
  },
  {
   "cell_type": "code",
   "execution_count": 1,
   "id": "5f20ffbc",
   "metadata": {},
   "outputs": [
    {
     "name": "stdout",
     "output_type": "stream",
     "text": [
      "The total number of pages in 2 books is 300\n"
     ]
    }
   ],
   "source": [
    "class Book:\n",
    "    def __init__(self,pages):\n",
    "        self.pages = pages\n",
    "    def __add__(self,other):\n",
    "        return self.pages + other.pages\n",
    "b1 = Book(100)\n",
    "b2 = Book(200)\n",
    "print(f'The total number of pages in 2 books is {b1+b2}')"
   ]
  },
  {
   "cell_type": "code",
   "execution_count": null,
   "id": "646fe635",
   "metadata": {},
   "outputs": [],
   "source": [
    "Q7. When do you consider allowing operator overloading of your classes?\n",
    "Answer: When we want to have different meaning for the same operator accroding to the context we use operator overloading."
   ]
  },
  {
   "cell_type": "code",
   "execution_count": null,
   "id": "dfc518d4",
   "metadata": {},
   "outputs": [],
   "source": [
    "Q8. What is the most popular form of operator overloading?\n",
    "Answer: The most popular form of operator overloading in python is by special methods called Magic methods. \n",
    "    Which usually beign and end with double underscore __<method name>__.\n",
    "    "
   ]
  },
  {
   "cell_type": "code",
   "execution_count": null,
   "id": "53a9c02c",
   "metadata": {},
   "outputs": [],
   "source": [
    "class A:\n",
    "    def __init__(self,a):\n",
    "        self.a = a\n",
    "    def __add__(self,o):\n",
    "        return self.a+o.a\n",
    "obj1 = A(1)\n",
    "obj2 = A(2)\n",
    "obj3 = A('Mano')\n",
    "obj4 = A(' Vishnu')\n",
    "print(f'Sum -> {obj1+obj2}')\n",
    "print(f'String Concatenation -> {obj3+obj4}')"
   ]
  },
  {
   "cell_type": "code",
   "execution_count": null,
   "id": "5c1a3fa3",
   "metadata": {},
   "outputs": [],
   "source": [
    "Q9. What are the two most important concepts to grasp in order to comprehend Python OOP code?\n",
    "Answer: Classes and objects are the two concepts to comprehend python OOP code as more formally objects are entities \n",
    "    that represent instances of general abstract concept called class\n",
    "\n",
    "    Along with classes and objects the important concepts to grasp are:\n",
    "\n",
    "Inheritence\n",
    "Abstraction\n",
    "Polymorphism\n",
    "Encapsulation"
   ]
  },
  {
   "cell_type": "code",
   "execution_count": null,
   "id": "cadd70f0",
   "metadata": {},
   "outputs": [],
   "source": []
  },
  {
   "cell_type": "code",
   "execution_count": null,
   "id": "dea897a7",
   "metadata": {},
   "outputs": [],
   "source": []
  }
 ],
 "metadata": {
  "kernelspec": {
   "display_name": "Python 3 (ipykernel)",
   "language": "python",
   "name": "python3"
  },
  "language_info": {
   "codemirror_mode": {
    "name": "ipython",
    "version": 3
   },
   "file_extension": ".py",
   "mimetype": "text/x-python",
   "name": "python",
   "nbconvert_exporter": "python",
   "pygments_lexer": "ipython3",
   "version": "3.9.12"
  }
 },
 "nbformat": 4,
 "nbformat_minor": 5
}
