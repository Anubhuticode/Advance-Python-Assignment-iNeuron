{
 "cells": [
  {
   "cell_type": "markdown",
   "id": "b0f40067",
   "metadata": {},
   "source": [
    "# Advance Assignment 25"
   ]
  },
  {
   "cell_type": "code",
   "execution_count": null,
   "id": "e9c36aab",
   "metadata": {},
   "outputs": [],
   "source": [
    "Q1. What is the distinction between a numpy array and a pandas data frame? Is there a way to convert between the two if\n",
    "there is ?"
   ]
  },
  {
   "cell_type": "code",
   "execution_count": null,
   "id": "158b8029",
   "metadata": {},
   "outputs": [],
   "source": [
    "Ans: Numpy Ndarray provides a lot of convenient and optimized methods for performing several mathematical operations on \n",
    "    vectors.\n",
    "    Pandas Dataframe is an in-memory 2-dimensional tabular representation of data. In simpler words, it can be seen as a \n",
    "    spreadsheet having rows and columns.\n",
    "\n",
    "    Conversion : Dataframe=pandas.DataFrame(array)"
   ]
  },
  {
   "cell_type": "code",
   "execution_count": null,
   "id": "93ca0464",
   "metadata": {},
   "outputs": [],
   "source": [
    "Q2. Identify some of the plotting techniques that are used to produce a stock-market chart ?"
   ]
  },
  {
   "cell_type": "code",
   "execution_count": null,
   "id": "aa64b4e1",
   "metadata": {},
   "outputs": [],
   "source": [
    "Ans: Bar chart, Line Chart are used for plotting."
   ]
  },
  {
   "cell_type": "code",
   "execution_count": null,
   "id": "12207c27",
   "metadata": {},
   "outputs": [],
   "source": [
    "Q3. Why is it essential to print a legend on a stock market chart ?"
   ]
  },
  {
   "cell_type": "code",
   "execution_count": null,
   "id": "a480e587",
   "metadata": {},
   "outputs": [],
   "source": [
    "Ans: Legend will help comparison between different stocks, so will be essential on a stock market chart"
   ]
  },
  {
   "cell_type": "code",
   "execution_count": null,
   "id": "f613451a",
   "metadata": {},
   "outputs": [],
   "source": [
    "Q4. What is the best way to limit the length of a pandas data frame to less than a year ?"
   ]
  },
  {
   "cell_type": "code",
   "execution_count": null,
   "id": "2ed4e135",
   "metadata": {},
   "outputs": [],
   "source": [
    "Ans: : We can use start and end parameters for that. In start we write the date from where we are starting and at the end \n",
    "        we write the end date. SO within this span we can restric the duration.Also we can use the parameters like periods\n",
    "        for how much times we need the duration and we can also use the frequency parameter."
   ]
  },
  {
   "cell_type": "code",
   "execution_count": null,
   "id": "695a63cc",
   "metadata": {},
   "outputs": [],
   "source": [
    "Q5. What is the definition of a 180-day moving average ?"
   ]
  },
  {
   "cell_type": "code",
   "execution_count": null,
   "id": "8194a1de",
   "metadata": {},
   "outputs": [],
   "source": [
    "Ans: : The 180-day moving average is represented as a line on charts and represents the average price over the past \n",
    "        180 days. The moving average can give traders a sense regarding whether the trend is up or down, while also\n",
    "        identifying potential support or resistance areas."
   ]
  },
  {
   "cell_type": "code",
   "execution_count": null,
   "id": "765a032d",
   "metadata": {},
   "outputs": [],
   "source": []
  },
  {
   "cell_type": "code",
   "execution_count": null,
   "id": "88ad169e",
   "metadata": {},
   "outputs": [],
   "source": []
  },
  {
   "cell_type": "code",
   "execution_count": null,
   "id": "8586817d",
   "metadata": {},
   "outputs": [],
   "source": []
  },
  {
   "cell_type": "code",
   "execution_count": null,
   "id": "668a02cd",
   "metadata": {},
   "outputs": [],
   "source": []
  }
 ],
 "metadata": {
  "kernelspec": {
   "display_name": "Python 3 (ipykernel)",
   "language": "python",
   "name": "python3"
  },
  "language_info": {
   "codemirror_mode": {
    "name": "ipython",
    "version": 3
   },
   "file_extension": ".py",
   "mimetype": "text/x-python",
   "name": "python",
   "nbconvert_exporter": "python",
   "pygments_lexer": "ipython3",
   "version": "3.9.12"
  }
 },
 "nbformat": 4,
 "nbformat_minor": 5
}
