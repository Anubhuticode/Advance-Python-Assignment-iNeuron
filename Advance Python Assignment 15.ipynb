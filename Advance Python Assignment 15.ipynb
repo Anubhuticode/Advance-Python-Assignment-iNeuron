{
 "cells": [
  {
   "cell_type": "markdown",
   "id": "c5d77849",
   "metadata": {},
   "source": [
    "# Advance Python Assignment 15"
   ]
  },
  {
   "cell_type": "code",
   "execution_count": null,
   "id": "5375c62b",
   "metadata": {},
   "outputs": [],
   "source": [
    "1. What are the new features added in Python 3.8 version?"
   ]
  },
  {
   "cell_type": "code",
   "execution_count": null,
   "id": "cd141f84",
   "metadata": {},
   "outputs": [],
   "source": [
    "Ans: Some New Features Added in Python 3.8 Version are:\n",
    "    1. Walrus Operator: This operator is used to assign and return a value in the same expression. \n",
    "    2. yield and return statements do not require parentheses to return multiple values.\n",
    "    3. Dict comprehensions have been modified so that the key is computed first and the value second.\n",
    "    4. importlib_metadata is a new library added in the Python’s standard utility modules, \n",
    "    5. f-strings now support = , to make string interpolation easy"
   ]
  },
  {
   "cell_type": "code",
   "execution_count": null,
   "id": "5c7742ae",
   "metadata": {},
   "outputs": [],
   "source": [
    "2. What is monkey patching in Python?"
   ]
  },
  {
   "cell_type": "code",
   "execution_count": null,
   "id": "dc6c52e1",
   "metadata": {},
   "outputs": [],
   "source": [
    "Ans: In Python, the term monkey patch refers to making dynamic (or run-time) modifications to a class or module.\n",
    "    In Python, we can actually change the behavior of code at run-time."
   ]
  },
  {
   "cell_type": "code",
   "execution_count": null,
   "id": "7008e955",
   "metadata": {},
   "outputs": [],
   "source": [
    "3. What is the difference between a shallow copy and deep copy?"
   ]
  },
  {
   "cell_type": "code",
   "execution_count": null,
   "id": "e1755ce9",
   "metadata": {},
   "outputs": [],
   "source": [
    "Ans: The Differences between a Shallow Copy and deep copy are as follows:\n",
    "\n",
    "When an object is copied using copy(), it is called shallow copy as changes made in copied object will also make\n",
    "corresponding changes in original object, because both the objects will be referencing same address location.\n",
    "\n",
    "When an object is copied using deepcopy(), it is called deep copy as changes made in copied object will not make \n",
    "corresponding changes in original object, because both the objects will not be referencing same address location."
   ]
  },
  {
   "cell_type": "code",
   "execution_count": null,
   "id": "356ff949",
   "metadata": {},
   "outputs": [],
   "source": [
    "4. What is the maximum possible length of an identifier?"
   ]
  },
  {
   "cell_type": "code",
   "execution_count": null,
   "id": "d7c9b248",
   "metadata": {},
   "outputs": [],
   "source": [
    "Ans: In Python, the highest possible length of an identifier is 79 characters. \n",
    "  "
   ]
  },
  {
   "cell_type": "code",
   "execution_count": null,
   "id": "3a1a3188",
   "metadata": {},
   "outputs": [],
   "source": [
    "5. What is generator comprehension?"
   ]
  },
  {
   "cell_type": "code",
   "execution_count": null,
   "id": "eded2900",
   "metadata": {},
   "outputs": [],
   "source": [
    "Ans: A generator comprehension is a single-line specification for defining a generator in Python.\n",
    "\n",
    "It is absolutely essential to learn this syntax in order to write simple and readable code.\n",
    "Generator comprehension uses round bracket unlike square bracket in list comprehension.\n",
    "The generator yields one item at a time and generates item only when in demand. Whereas, in a list comprehension, \n",
    "Python reserves memory for the whole list. \n",
    "Thus we can say that the generator expressions are memory efficient than the lists."
   ]
  },
  {
   "cell_type": "code",
   "execution_count": null,
   "id": "d2f01b8b",
   "metadata": {},
   "outputs": [],
   "source": []
  },
  {
   "cell_type": "code",
   "execution_count": null,
   "id": "4c23ae3c",
   "metadata": {},
   "outputs": [],
   "source": []
  },
  {
   "cell_type": "code",
   "execution_count": null,
   "id": "f0021f4a",
   "metadata": {},
   "outputs": [],
   "source": []
  },
  {
   "cell_type": "code",
   "execution_count": null,
   "id": "b460a0bd",
   "metadata": {},
   "outputs": [],
   "source": []
  },
  {
   "cell_type": "code",
   "execution_count": null,
   "id": "44e32eb6",
   "metadata": {},
   "outputs": [],
   "source": []
  },
  {
   "cell_type": "code",
   "execution_count": null,
   "id": "3cf34346",
   "metadata": {},
   "outputs": [],
   "source": []
  }
 ],
 "metadata": {
  "kernelspec": {
   "display_name": "Python 3 (ipykernel)",
   "language": "python",
   "name": "python3"
  },
  "language_info": {
   "codemirror_mode": {
    "name": "ipython",
    "version": 3
   },
   "file_extension": ".py",
   "mimetype": "text/x-python",
   "name": "python",
   "nbconvert_exporter": "python",
   "pygments_lexer": "ipython3",
   "version": "3.9.12"
  }
 },
 "nbformat": 4,
 "nbformat_minor": 5
}
