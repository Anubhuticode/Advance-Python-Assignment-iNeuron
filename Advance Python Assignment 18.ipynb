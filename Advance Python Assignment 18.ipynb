{
 "cells": [
  {
   "cell_type": "markdown",
   "id": "09b1f848",
   "metadata": {},
   "source": [
    "# Advance Python Assignment 18"
   ]
  },
  {
   "cell_type": "code",
   "execution_count": null,
   "id": "c40b60ec",
   "metadata": {},
   "outputs": [],
   "source": [
    "Q1. Describe the differences between text and binary files in a single paragraph."
   ]
  },
  {
   "cell_type": "code",
   "execution_count": null,
   "id": "6788ef12",
   "metadata": {},
   "outputs": [],
   "source": [
    "Ans: The differences between Text Files and Binary Files are:\n",
    "\n",
    "Text files are special subset of binary files that are used to store human readable characters as a rich text document or\n",
    "plain text document. Text files also store data in sequential bytes but bits in text file represents characters.\n",
    "\n",
    "Binary files are those typical files that store data in the form of sequence of bytes grouped into eight bits or \n",
    "sometimes sixteen bits. These bits represent custom data and such files can store multiple types of data (images, audio,\n",
    "                                                            text, etc) under a single file."
   ]
  },
  {
   "cell_type": "code",
   "execution_count": null,
   "id": "714953c9",
   "metadata": {},
   "outputs": [],
   "source": [
    "Q2. What are some scenarios where using text files will be the better option?\n",
    "When would you like to use binary files instead of text files?"
   ]
  },
  {
   "cell_type": "code",
   "execution_count": null,
   "id": "a8d5e7b7",
   "metadata": {},
   "outputs": [],
   "source": [
    "Ans: Text files are less prone to get corrupted as any undesired change may just show up once the file is opened and then \n",
    "     can easily be removed.\n",
    "     Whereas Use binary files instead of text files for image data."
   ]
  },
  {
   "cell_type": "code",
   "execution_count": null,
   "id": "7ed06d18",
   "metadata": {},
   "outputs": [],
   "source": [
    "Q3. What are some of the issues with using binary operations to read and write a Python integer directly to disc?\n"
   ]
  },
  {
   "cell_type": "code",
   "execution_count": null,
   "id": "b89dbf4b",
   "metadata": {},
   "outputs": [],
   "source": [
    "Ans: When we read or write a python integer using binary operations:\n",
    "        Binary operations deal with raw data\n",
    "        One needs to identify how many bytes one would read or write."
   ]
  },
  {
   "cell_type": "code",
   "execution_count": null,
   "id": "e2440668",
   "metadata": {},
   "outputs": [],
   "source": [
    "Q4. Describe a benefit of using the with keyword instead of explicitly opening a file ?"
   ]
  },
  {
   "cell_type": "code",
   "execution_count": null,
   "id": "efe5ba92",
   "metadata": {},
   "outputs": [],
   "source": [
    "Ans: When a file is opened using the with keyword, if some exceptions occur after opening a file, or at the end of the \n",
    "    file it automatically does the closing of the file. There by not leaving an file in\n",
    "    open mode and there would no need to explicitly close a file."
   ]
  },
  {
   "cell_type": "code",
   "execution_count": null,
   "id": "afdae9db",
   "metadata": {},
   "outputs": [],
   "source": [
    "Q5. Does Python have the trailing newline while reading a line of text?\n",
    "Does Python append a newline when you write a line of text?"
   ]
  },
  {
   "cell_type": "code",
   "execution_count": null,
   "id": "30695960",
   "metadata": {},
   "outputs": [],
   "source": [
    "Ans: Yes, Python have the trailing newline while reading a line of text. \n",
    "    When we write a newline has to be provided in python excpicitly."
   ]
  },
  {
   "cell_type": "code",
   "execution_count": null,
   "id": "71134741",
   "metadata": {},
   "outputs": [],
   "source": [
    "Q6. What file operations enable for random-access operation?"
   ]
  },
  {
   "cell_type": "code",
   "execution_count": null,
   "id": "ed58e9f5",
   "metadata": {},
   "outputs": [],
   "source": [
    "Ans: The file operations enable for random-access operation are seek() and tell()"
   ]
  },
  {
   "cell_type": "code",
   "execution_count": null,
   "id": "6e5eac17",
   "metadata": {},
   "outputs": [],
   "source": [
    "Q7. When do you think you'll use the struct package the most?"
   ]
  },
  {
   "cell_type": "code",
   "execution_count": null,
   "id": "c8356971",
   "metadata": {},
   "outputs": [],
   "source": [
    "Ans: The struct package is mostly used while converting a common python types into C language types."
   ]
  },
  {
   "cell_type": "code",
   "execution_count": null,
   "id": "e14f0209",
   "metadata": {},
   "outputs": [],
   "source": [
    "Q8. When is pickling the best option?"
   ]
  },
  {
   "cell_type": "code",
   "execution_count": null,
   "id": "beee4676",
   "metadata": {},
   "outputs": [],
   "source": [
    "Ans: Pickling is best option for creating a new binary file using python."
   ]
  },
  {
   "cell_type": "code",
   "execution_count": null,
   "id": "7f7104ce",
   "metadata": {},
   "outputs": [],
   "source": [
    "Q9. When will it be best to use the shelve package?"
   ]
  },
  {
   "cell_type": "code",
   "execution_count": null,
   "id": "cf98db3e",
   "metadata": {},
   "outputs": [],
   "source": [
    "Ans: Shelve package is used to pickle data but treats the entire file as dictionary."
   ]
  },
  {
   "cell_type": "code",
   "execution_count": null,
   "id": "ceb5fe3d",
   "metadata": {},
   "outputs": [],
   "source": [
    "Q10. What is a special restriction when using the shelve package, as opposed to using other data dictionaries?"
   ]
  },
  {
   "cell_type": "code",
   "execution_count": null,
   "id": "e9719a3a",
   "metadata": {},
   "outputs": [],
   "source": [
    "Ans: Only string data type can be used as key in this special dictionary object, whereas any picklable Python object \n",
    "    can be used as value."
   ]
  },
  {
   "cell_type": "code",
   "execution_count": null,
   "id": "e4a4ff7c",
   "metadata": {},
   "outputs": [],
   "source": []
  }
 ],
 "metadata": {
  "kernelspec": {
   "display_name": "Python 3 (ipykernel)",
   "language": "python",
   "name": "python3"
  },
  "language_info": {
   "codemirror_mode": {
    "name": "ipython",
    "version": 3
   },
   "file_extension": ".py",
   "mimetype": "text/x-python",
   "name": "python",
   "nbconvert_exporter": "python",
   "pygments_lexer": "ipython3",
   "version": "3.9.12"
  }
 },
 "nbformat": 4,
 "nbformat_minor": 5
}
